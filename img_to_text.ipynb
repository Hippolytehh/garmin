{
 "cells": [
  {
   "cell_type": "code",
   "execution_count": 66,
   "id": "d2f1217d",
   "metadata": {},
   "outputs": [],
   "source": [
    "import pytesseract\n",
    "import cv2\n",
    "from PIL import Image\n",
    "import numpy as np\n",
    "import re\n",
    "import config\n",
    "import clr\n",
    "import os\n",
    "clr.AddReference(os.path.abspath(config.FIT_DLL))\n",
    "from Dynastream.Fit import * # type: ignore\n",
    "\n",
    "pytesseract.pytesseract.tesseract_cmd = r'/usr/local/bin/tesseract'\n",
    "\n",
    "from Swimming import SwimmingWorkout, SwimmingWorkoutStepRepeat, SwimmingWorkoutStepSwim, SwimmingWorkoutStepSwimRest"
   ]
  },
  {
   "cell_type": "code",
   "execution_count": 73,
   "id": "14f46de7",
   "metadata": {},
   "outputs": [],
   "source": [
    "image_bgr = cv2.imread(\"images/IMG_9247.PNG\")\n",
    "image_rgb = cv2.cvtColor(image_bgr, cv2.COLOR_BGR2RGB)\n",
    "image_hsv = cv2.cvtColor(image_bgr, cv2.COLOR_BGR2HSV)\n",
    "\n",
    "# Define blue range in HSV\n",
    "lower_blue = np.array([90, 50, 50])\n",
    "upper_blue = np.array([130, 255, 255])\n",
    "mask = cv2.inRange(image_hsv, lower_blue, upper_blue)\n",
    "\n",
    "instructions = []\n",
    "\n",
    "contours, _ = cv2.findContours(mask, cv2.RETR_EXTERNAL, cv2.CHAIN_APPROX_SIMPLE)\n",
    "for cnt in contours[::-1]:\n",
    "    x, y, w, h = cv2.boundingRect(cnt)\n",
    "    if w > 100 and w < 200 and h > 100:  # Filter out small noise\n",
    "        # Crop a horizontal strip to the right of the blue circle\n",
    "        line_crop = image_rgb[y:y+h, x+w:x+w+1000] # Adjust width as needed\n",
    "\n",
    "        # Convert to PIL Image for pytesseract\n",
    "        pil_img = Image.fromarray(line_crop)\n",
    "\n",
    "        # display(pil_img) # for debugging\n",
    "\n",
    "        text = pytesseract.image_to_string(pil_img)\n",
    "\n",
    "        instructions.append(text.replace('\\n', '').replace(' ', '').strip())"
   ]
  },
  {
   "cell_type": "code",
   "execution_count": 76,
   "id": "e533eb9e",
   "metadata": {},
   "outputs": [
    {
     "name": "stdout",
     "output_type": "stream",
     "text": [
      "Repeat 6 times: 25mcrawlrattrapé\n",
      "25mcrawlrattrapé\n",
      "25 crawlrattrapé\n",
      "25mcrawl\n",
      "25 crawl\n",
      "15srécup\n"
     ]
    }
   ],
   "source": [
    "message_index = 0\n",
    "for instruction in instructions:\n",
    "    pattern_repeat = re.search(r'(\\d+)\\s*[x×]\\s*\\((.*?)\\)', instruction, re.IGNORECASE)\n",
    "    if pattern_repeat:\n",
    "        times = int(pattern_repeat.group(1))\n",
    "        tasks = str(pattern_repeat.group(2).strip()).split(';')\n",
    "        print(f\"Repeat {times} times: {task}\")\n",
    "\n",
    "        for task in tasks:\n",
    "            print(task)\n",
    "            pattern_distance = re.search(r'(\\d+)\\s*m\\s*(.*)', task, re.IGNORECASE)\n",
    "            if pattern_distance:\n",
    "                distance = int(pattern_distance.group(1))\n",
    "                swim_type = pattern_distance.group(2).strip().lower()\n",
    "                print(distance, swim_type)\n",
    "                SwimmingWorkoutStepSwim.create_workout_step_swim(\n",
    "                    message_index= message_index, \n",
    "                    distance= distance,\n",
    "                    swim_stroke= SwimStroke.Invalid # type: ignore\n",
    "                )\n",
    "                message_index += 1\n",
    "\n",
    "        # SwimmingWorkoutStepRepeat(\n",
    "        #     message_index= message_index,\n",
    "        #     repeat_from: int, \n",
    "        #     repetitions: int\n",
    "        # )"
   ]
  }
 ],
 "metadata": {
  "kernelspec": {
   "display_name": "venv",
   "language": "python",
   "name": "python3"
  },
  "language_info": {
   "codemirror_mode": {
    "name": "ipython",
    "version": 3
   },
   "file_extension": ".py",
   "mimetype": "text/x-python",
   "name": "python",
   "nbconvert_exporter": "python",
   "pygments_lexer": "ipython3",
   "version": "3.13.3"
  }
 },
 "nbformat": 4,
 "nbformat_minor": 5
}
